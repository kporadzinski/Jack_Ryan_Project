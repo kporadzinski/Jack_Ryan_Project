{
 "cells": [
  {
   "cell_type": "code",
   "execution_count": 11,
   "id": "8ca8b630",
   "metadata": {},
   "outputs": [],
   "source": [
    "import pandas as pd\n",
    "import time\n",
    "from selenium import webdriver\n",
    "from webdriver_manager.chrome import ChromeDriverManager\n",
    "from selenium.webdriver.common.by import By"
   ]
  },
  {
   "cell_type": "code",
   "execution_count": 7,
   "id": "4f8ca1f8",
   "metadata": {},
   "outputs": [
    {
     "name": "stderr",
     "output_type": "stream",
     "text": [
      "C:\\Users\\krzys\\AppData\\Local\\Temp\\ipykernel_4028\\1503906442.py:1: DeprecationWarning: executable_path has been deprecated, please pass in a Service object\n",
      "  driver = webdriver.Chrome(ChromeDriverManager().install())\n"
     ]
    }
   ],
   "source": [
    "driver = webdriver.Chrome(ChromeDriverManager().install())"
   ]
  },
  {
   "cell_type": "code",
   "execution_count": 34,
   "id": "ddcb8d21",
   "metadata": {},
   "outputs": [],
   "source": [
    "page_url = \"https://witcher.fandom.com/wiki/Category:Characters_in_the_stories\"\n",
    "driver.get(page_url)"
   ]
  },
  {
   "cell_type": "code",
   "execution_count": 36,
   "id": "344fb93e",
   "metadata": {},
   "outputs": [
    {
     "name": "stdout",
     "output_type": "stream",
     "text": [
      "clear way!\n"
     ]
    }
   ],
   "source": [
    "try:\n",
    "    driver.find_element(By.XPATH,' //div[text()=\"AKCEPTUJĘ\"]').click()\n",
    "    \n",
    "except:\n",
    "    print(\"clear way!\")\n",
    "    "
   ]
  },
  {
   "cell_type": "code",
   "execution_count": 59,
   "id": "ff4578d8",
   "metadata": {},
   "outputs": [],
   "source": [
    "book_categories= driver.find_elements(by=By.CLASS_NAME, value = \"category-page__member-link\")"
   ]
  },
  {
   "cell_type": "code",
   "execution_count": 65,
   "id": "22ffcf75",
   "metadata": {},
   "outputs": [
    {
     "name": "stdout",
     "output_type": "stream",
     "text": [
      "numer1 Category:Baptism of Fire characters\n",
      "numer2 Category:Blood of Elves characters\n",
      "numer3 Godamba Thaess'en\n",
      "numer4 Category:Season of Storms characters\n",
      "numer5 Category:Something Ends, Something Begins characters\n",
      "numer6 Category:Sword of Destiny characters\n",
      "numer7 Category:Szpony i kły characters\n",
      "numer8 Category:Tales from the world of The Witcher characters\n",
      "numer9 Category:The Lady of the Lake characters\n",
      "numer10 Category:The Last Wish characters\n",
      "numer11 Category:The Tower of the Swallow characters\n",
      "numer12 Category:Time of Contempt characters\n"
     ]
    }
   ],
   "source": [
    "for i in range( len(book_categories)): \n",
    "        print( 'numer'+str(i+1)+\" \"+book_categories[i].text)"
   ]
  },
  {
   "cell_type": "code",
   "execution_count": 66,
   "id": "25c77093",
   "metadata": {},
   "outputs": [
    {
     "data": {
      "text/plain": [
       "'https://witcher.fandom.com/wiki/Category:Baptism_of_Fire_characters'"
      ]
     },
     "execution_count": 66,
     "metadata": {},
     "output_type": "execute_result"
    }
   ],
   "source": [
    "book_categories[0].get_attribute('href')"
   ]
  },
  {
   "cell_type": "code",
   "execution_count": 71,
   "id": "8e61f9f6",
   "metadata": {},
   "outputs": [],
   "source": [
    "driver.get(book_categories[0].get_attribute('href'))"
   ]
  }
 ],
 "metadata": {
  "kernelspec": {
   "display_name": "Python 3 (ipykernel)",
   "language": "python",
   "name": "python3"
  },
  "language_info": {
   "codemirror_mode": {
    "name": "ipython",
    "version": 3
   },
   "file_extension": ".py",
   "mimetype": "text/x-python",
   "name": "python",
   "nbconvert_exporter": "python",
   "pygments_lexer": "ipython3",
   "version": "3.9.13"
  }
 },
 "nbformat": 4,
 "nbformat_minor": 5
}
