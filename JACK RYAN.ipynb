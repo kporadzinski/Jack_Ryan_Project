{
 "cells": [
  {
   "cell_type": "code",
   "execution_count": 1,
   "id": "857a5d16",
   "metadata": {},
   "outputs": [],
   "source": [
    "import pandas as pd\n",
    "import time\n",
    "from selenium import webdriver\n",
    "from webdriver_manager.chrome import ChromeDriverManager\n",
    "from selenium.webdriver.common.by import By"
   ]
  },
  {
   "cell_type": "code",
   "execution_count": 99,
   "id": "69402270",
   "metadata": {},
   "outputs": [
    {
     "name": "stderr",
     "output_type": "stream",
     "text": [
      "C:\\Users\\krzys\\AppData\\Local\\Temp\\ipykernel_15928\\1503906442.py:1: DeprecationWarning: executable_path has been deprecated, please pass in a Service object\n",
      "  driver = webdriver.Chrome(ChromeDriverManager().install())\n"
     ]
    }
   ],
   "source": [
    "driver = webdriver.Chrome(ChromeDriverManager().install())"
   ]
  },
  {
   "cell_type": "markdown",
   "id": "4ddbb5f8",
   "metadata": {},
   "source": [
    "https://en.wikipedia.org/wiki/Ryanverse //*[contains(text(),'Get started ')]"
   ]
  },
  {
   "cell_type": "code",
   "execution_count": 100,
   "id": "f7abb7dc",
   "metadata": {},
   "outputs": [],
   "source": [
    "page_url = \"https://en.wikipedia.org/wiki/Ryanverse#By_publication_date\"\n",
    "driver.get(page_url)"
   ]
  },
  {
   "cell_type": "code",
   "execution_count": 211,
   "id": "93912999",
   "metadata": {},
   "outputs": [
    {
     "name": "stdout",
     "output_type": "stream",
     "text": [
      "1\n",
      "2\n"
     ]
    }
   ],
   "source": [
    "for k in range(1,3):\n",
    "    print(k)"
   ]
  },
  {
   "cell_type": "code",
   "execution_count": 210,
   "id": "f11093fc",
   "metadata": {},
   "outputs": [
    {
     "name": "stdout",
     "output_type": "stream",
     "text": [
      "https://en.wikipedia.org/wiki/Patriot_Games\n"
     ]
    }
   ],
   "source": [
    "b2 = driver.find_element(By.XPATH, \"//ol[1]//li[2]//i//a\")\n",
    "print(b2.get_attribute('href'))"
   ]
  },
  {
   "cell_type": "code",
   "execution_count": 220,
   "id": "0ca4be4a",
   "metadata": {},
   "outputs": [],
   "source": [
    "book_list = []\n",
    "\n",
    "for i in range(1,100):\n",
    "    try:\n",
    "        b2 = driver.find_element(By.XPATH, f\"//ol[1]//li[{i}]//i//a\")\n",
    "        text = b2.get_attribute('text')\n",
    "        href = b2.get_attribute('href')\n",
    "        book_list.append({'title':text,'link':href})\n",
    "    except:\n",
    "        break"
   ]
  },
  {
   "cell_type": "code",
   "execution_count": 221,
   "id": "b2deadfe",
   "metadata": {},
   "outputs": [
    {
     "data": {
      "text/plain": [
       "[{'title': 'The Hunt for Red October',\n",
       "  'link': 'https://en.wikipedia.org/wiki/The_Hunt_for_Red_October'},\n",
       " {'title': 'Patriot Games',\n",
       "  'link': 'https://en.wikipedia.org/wiki/Patriot_Games'},\n",
       " {'title': 'The Cardinal of the Kremlin',\n",
       "  'link': 'https://en.wikipedia.org/wiki/The_Cardinal_of_the_Kremlin'},\n",
       " {'title': 'Clear and Present Danger',\n",
       "  'link': 'https://en.wikipedia.org/wiki/Clear_and_Present_Danger'},\n",
       " {'title': 'The Sum of All Fears',\n",
       "  'link': 'https://en.wikipedia.org/wiki/The_Sum_of_All_Fears'},\n",
       " {'title': 'Without Remorse',\n",
       "  'link': 'https://en.wikipedia.org/wiki/Without_Remorse'},\n",
       " {'title': 'Debt of Honor',\n",
       "  'link': 'https://en.wikipedia.org/wiki/Debt_of_Honor'},\n",
       " {'title': 'Executive Orders',\n",
       "  'link': 'https://en.wikipedia.org/wiki/Executive_Orders'},\n",
       " {'title': 'Rainbow Six',\n",
       "  'link': 'https://en.wikipedia.org/wiki/Rainbow_Six_(novel)'},\n",
       " {'title': 'The Bear and the Dragon',\n",
       "  'link': 'https://en.wikipedia.org/wiki/The_Bear_and_the_Dragon'},\n",
       " {'title': 'Red Rabbit', 'link': 'https://en.wikipedia.org/wiki/Red_Rabbit'},\n",
       " {'title': 'The Teeth of the Tiger',\n",
       "  'link': 'https://en.wikipedia.org/wiki/The_Teeth_of_the_Tiger'},\n",
       " {'title': 'Dead or Alive',\n",
       "  'link': 'https://en.wikipedia.org/wiki/Dead_or_Alive_(novel)'},\n",
       " {'title': 'Against All Enemies',\n",
       "  'link': 'https://en.wikipedia.org/wiki/Against_All_Enemies_(novel)'},\n",
       " {'title': 'Locked On',\n",
       "  'link': 'https://en.wikipedia.org/wiki/Locked_On_(novel)'},\n",
       " {'title': 'Threat Vector',\n",
       "  'link': 'https://en.wikipedia.org/wiki/Threat_Vector'},\n",
       " {'title': 'Command Authority',\n",
       "  'link': 'https://en.wikipedia.org/wiki/Command_Authority'}]"
      ]
     },
     "execution_count": 221,
     "metadata": {},
     "output_type": "execute_result"
    }
   ],
   "source": [
    "book_list"
   ]
  },
  {
   "cell_type": "code",
   "execution_count": 222,
   "id": "dd128d60",
   "metadata": {},
   "outputs": [],
   "source": [
    "boooksy = pd.DataFrame(book_list)"
   ]
  },
  {
   "cell_type": "code",
   "execution_count": 240,
   "id": "74939be1",
   "metadata": {},
   "outputs": [
    {
     "data": {
      "text/plain": [
       "title                             The Hunt for Red October\n",
       "link     https://en.wikipedia.org/wiki/The_Hunt_for_Red...\n",
       "Name: 0, dtype: object"
      ]
     },
     "execution_count": 240,
     "metadata": {},
     "output_type": "execute_result"
    }
   ],
   "source": [
    "boooksy.iloc[0]"
   ]
  },
  {
   "cell_type": "code",
   "execution_count": 286,
   "id": "02a1a308",
   "metadata": {},
   "outputs": [],
   "source": [
    "codes = []\n",
    "\n",
    "for i in range(len(boooksy)):\n",
    "    code=\"\"\n",
    "    titt= (boooksy.iloc[i].title)\n",
    "    titt = titt.split()\n",
    "    for i in range(len(titt)):\n",
    "        code+=titt[i][0].upper()\n",
    "    codes.append(code)\n"
   ]
  },
  {
   "cell_type": "code",
   "execution_count": 288,
   "id": "7fe3a274",
   "metadata": {},
   "outputs": [
    {
     "data": {
      "text/plain": [
       "17"
      ]
     },
     "execution_count": 288,
     "metadata": {},
     "output_type": "execute_result"
    }
   ],
   "source": [
    "len(codes)"
   ]
  },
  {
   "cell_type": "code",
   "execution_count": 289,
   "id": "f1908e5d",
   "metadata": {},
   "outputs": [],
   "source": [
    "boooksy['codes']=codes"
   ]
  },
  {
   "cell_type": "code",
   "execution_count": 290,
   "id": "5928b8c5",
   "metadata": {},
   "outputs": [
    {
     "data": {
      "text/html": [
       "<div>\n",
       "<style scoped>\n",
       "    .dataframe tbody tr th:only-of-type {\n",
       "        vertical-align: middle;\n",
       "    }\n",
       "\n",
       "    .dataframe tbody tr th {\n",
       "        vertical-align: top;\n",
       "    }\n",
       "\n",
       "    .dataframe thead th {\n",
       "        text-align: right;\n",
       "    }\n",
       "</style>\n",
       "<table border=\"1\" class=\"dataframe\">\n",
       "  <thead>\n",
       "    <tr style=\"text-align: right;\">\n",
       "      <th></th>\n",
       "      <th>title</th>\n",
       "      <th>link</th>\n",
       "      <th>codes</th>\n",
       "    </tr>\n",
       "  </thead>\n",
       "  <tbody>\n",
       "    <tr>\n",
       "      <th>0</th>\n",
       "      <td>The Hunt for Red October</td>\n",
       "      <td>https://en.wikipedia.org/wiki/The_Hunt_for_Red...</td>\n",
       "      <td>THFRO</td>\n",
       "    </tr>\n",
       "    <tr>\n",
       "      <th>1</th>\n",
       "      <td>Patriot Games</td>\n",
       "      <td>https://en.wikipedia.org/wiki/Patriot_Games</td>\n",
       "      <td>PG</td>\n",
       "    </tr>\n",
       "    <tr>\n",
       "      <th>2</th>\n",
       "      <td>The Cardinal of the Kremlin</td>\n",
       "      <td>https://en.wikipedia.org/wiki/The_Cardinal_of_...</td>\n",
       "      <td>TCOTK</td>\n",
       "    </tr>\n",
       "    <tr>\n",
       "      <th>3</th>\n",
       "      <td>Clear and Present Danger</td>\n",
       "      <td>https://en.wikipedia.org/wiki/Clear_and_Presen...</td>\n",
       "      <td>CAPD</td>\n",
       "    </tr>\n",
       "    <tr>\n",
       "      <th>4</th>\n",
       "      <td>The Sum of All Fears</td>\n",
       "      <td>https://en.wikipedia.org/wiki/The_Sum_of_All_F...</td>\n",
       "      <td>TSOAF</td>\n",
       "    </tr>\n",
       "    <tr>\n",
       "      <th>5</th>\n",
       "      <td>Without Remorse</td>\n",
       "      <td>https://en.wikipedia.org/wiki/Without_Remorse</td>\n",
       "      <td>WR</td>\n",
       "    </tr>\n",
       "    <tr>\n",
       "      <th>6</th>\n",
       "      <td>Debt of Honor</td>\n",
       "      <td>https://en.wikipedia.org/wiki/Debt_of_Honor</td>\n",
       "      <td>DOH</td>\n",
       "    </tr>\n",
       "    <tr>\n",
       "      <th>7</th>\n",
       "      <td>Executive Orders</td>\n",
       "      <td>https://en.wikipedia.org/wiki/Executive_Orders</td>\n",
       "      <td>EO</td>\n",
       "    </tr>\n",
       "    <tr>\n",
       "      <th>8</th>\n",
       "      <td>Rainbow Six</td>\n",
       "      <td>https://en.wikipedia.org/wiki/Rainbow_Six_(novel)</td>\n",
       "      <td>RS</td>\n",
       "    </tr>\n",
       "    <tr>\n",
       "      <th>9</th>\n",
       "      <td>The Bear and the Dragon</td>\n",
       "      <td>https://en.wikipedia.org/wiki/The_Bear_and_the...</td>\n",
       "      <td>TBATD</td>\n",
       "    </tr>\n",
       "    <tr>\n",
       "      <th>10</th>\n",
       "      <td>Red Rabbit</td>\n",
       "      <td>https://en.wikipedia.org/wiki/Red_Rabbit</td>\n",
       "      <td>RR</td>\n",
       "    </tr>\n",
       "    <tr>\n",
       "      <th>11</th>\n",
       "      <td>The Teeth of the Tiger</td>\n",
       "      <td>https://en.wikipedia.org/wiki/The_Teeth_of_the...</td>\n",
       "      <td>TTOTT</td>\n",
       "    </tr>\n",
       "    <tr>\n",
       "      <th>12</th>\n",
       "      <td>Dead or Alive</td>\n",
       "      <td>https://en.wikipedia.org/wiki/Dead_or_Alive_(n...</td>\n",
       "      <td>DOA</td>\n",
       "    </tr>\n",
       "    <tr>\n",
       "      <th>13</th>\n",
       "      <td>Against All Enemies</td>\n",
       "      <td>https://en.wikipedia.org/wiki/Against_All_Enem...</td>\n",
       "      <td>AAE</td>\n",
       "    </tr>\n",
       "    <tr>\n",
       "      <th>14</th>\n",
       "      <td>Locked On</td>\n",
       "      <td>https://en.wikipedia.org/wiki/Locked_On_(novel)</td>\n",
       "      <td>LO</td>\n",
       "    </tr>\n",
       "    <tr>\n",
       "      <th>15</th>\n",
       "      <td>Threat Vector</td>\n",
       "      <td>https://en.wikipedia.org/wiki/Threat_Vector</td>\n",
       "      <td>TV</td>\n",
       "    </tr>\n",
       "    <tr>\n",
       "      <th>16</th>\n",
       "      <td>Command Authority</td>\n",
       "      <td>https://en.wikipedia.org/wiki/Command_Authority</td>\n",
       "      <td>CA</td>\n",
       "    </tr>\n",
       "  </tbody>\n",
       "</table>\n",
       "</div>"
      ],
      "text/plain": [
       "                          title  \\\n",
       "0      The Hunt for Red October   \n",
       "1                 Patriot Games   \n",
       "2   The Cardinal of the Kremlin   \n",
       "3      Clear and Present Danger   \n",
       "4          The Sum of All Fears   \n",
       "5               Without Remorse   \n",
       "6                 Debt of Honor   \n",
       "7              Executive Orders   \n",
       "8                   Rainbow Six   \n",
       "9       The Bear and the Dragon   \n",
       "10                   Red Rabbit   \n",
       "11       The Teeth of the Tiger   \n",
       "12                Dead or Alive   \n",
       "13          Against All Enemies   \n",
       "14                    Locked On   \n",
       "15                Threat Vector   \n",
       "16            Command Authority   \n",
       "\n",
       "                                                 link  codes  \n",
       "0   https://en.wikipedia.org/wiki/The_Hunt_for_Red...  THFRO  \n",
       "1         https://en.wikipedia.org/wiki/Patriot_Games     PG  \n",
       "2   https://en.wikipedia.org/wiki/The_Cardinal_of_...  TCOTK  \n",
       "3   https://en.wikipedia.org/wiki/Clear_and_Presen...   CAPD  \n",
       "4   https://en.wikipedia.org/wiki/The_Sum_of_All_F...  TSOAF  \n",
       "5       https://en.wikipedia.org/wiki/Without_Remorse     WR  \n",
       "6         https://en.wikipedia.org/wiki/Debt_of_Honor    DOH  \n",
       "7      https://en.wikipedia.org/wiki/Executive_Orders     EO  \n",
       "8   https://en.wikipedia.org/wiki/Rainbow_Six_(novel)     RS  \n",
       "9   https://en.wikipedia.org/wiki/The_Bear_and_the...  TBATD  \n",
       "10           https://en.wikipedia.org/wiki/Red_Rabbit     RR  \n",
       "11  https://en.wikipedia.org/wiki/The_Teeth_of_the...  TTOTT  \n",
       "12  https://en.wikipedia.org/wiki/Dead_or_Alive_(n...    DOA  \n",
       "13  https://en.wikipedia.org/wiki/Against_All_Enem...    AAE  \n",
       "14    https://en.wikipedia.org/wiki/Locked_On_(novel)     LO  \n",
       "15        https://en.wikipedia.org/wiki/Threat_Vector     TV  \n",
       "16    https://en.wikipedia.org/wiki/Command_Authority     CA  "
      ]
     },
     "execution_count": 290,
     "metadata": {},
     "output_type": "execute_result"
    }
   ],
   "source": [
    "boooksy"
   ]
  },
  {
   "cell_type": "code",
   "execution_count": 129,
   "id": "6bff2ef7",
   "metadata": {},
   "outputs": [],
   "source": [
    "books.append(nowa)"
   ]
  },
  {
   "cell_type": "code",
   "execution_count": 130,
   "id": "0ba6d63b",
   "metadata": {},
   "outputs": [
    {
     "data": {
      "text/plain": [
       "[{'rok': 1984, 'name': 'najlepsza'}]"
      ]
     },
     "execution_count": 130,
     "metadata": {},
     "output_type": "execute_result"
    }
   ],
   "source": [
    "books"
   ]
  },
  {
   "cell_type": "code",
   "execution_count": 227,
   "id": "4f806dbc",
   "metadata": {},
   "outputs": [],
   "source": [
    "characters_url = \"https://en.wikipedia.org/wiki/Ryanverse#Cast\"\n",
    "driver.get(page_url)"
   ]
  },
  {
   "cell_type": "code",
   "execution_count": 264,
   "id": "c3bb2a6b",
   "metadata": {},
   "outputs": [],
   "source": [
    "dad = 'ddd dda sad'.split()"
   ]
  },
  {
   "cell_type": "code",
   "execution_count": 265,
   "id": "92aca2f8",
   "metadata": {},
   "outputs": [
    {
     "data": {
      "text/plain": [
       "['ddd', 'dda', 'sad']"
      ]
     },
     "execution_count": 265,
     "metadata": {},
     "output_type": "execute_result"
    }
   ],
   "source": [
    "dad"
   ]
  },
  {
   "cell_type": "code",
   "execution_count": 275,
   "id": "634d6fa3",
   "metadata": {},
   "outputs": [],
   "source": [
    "code = \"\"\n",
    "for i in range (len(dad)):\n",
    "    code+=dad[i][0].upper()"
   ]
  },
  {
   "cell_type": "code",
   "execution_count": 276,
   "id": "c94e95aa",
   "metadata": {},
   "outputs": [
    {
     "data": {
      "text/plain": [
       "'DDS'"
      ]
     },
     "execution_count": 276,
     "metadata": {},
     "output_type": "execute_result"
    }
   ],
   "source": [
    "code"
   ]
  },
  {
   "cell_type": "code",
   "execution_count": null,
   "id": "7d720530",
   "metadata": {},
   "outputs": [],
   "source": []
  }
 ],
 "metadata": {
  "kernelspec": {
   "display_name": "Python 3 (ipykernel)",
   "language": "python",
   "name": "python3"
  },
  "language_info": {
   "codemirror_mode": {
    "name": "ipython",
    "version": 3
   },
   "file_extension": ".py",
   "mimetype": "text/x-python",
   "name": "python",
   "nbconvert_exporter": "python",
   "pygments_lexer": "ipython3",
   "version": "3.9.13"
  }
 },
 "nbformat": 4,
 "nbformat_minor": 5
}
